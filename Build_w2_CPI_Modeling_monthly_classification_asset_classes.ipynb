{
  "nbformat": 4,
  "nbformat_minor": 0,
  "metadata": {
    "colab": {
      "name": "CPI Modeling monthly classification asset classes.ipynb",
      "provenance": [],
      "collapsed_sections": [],
      "authorship_tag": "ABX9TyOOsb20mhwlWiohtSuEBNOM",
      "include_colab_link": true
    },
    "kernelspec": {
      "name": "python3",
      "display_name": "Python 3"
    }
  },
  "cells": [
    {
      "cell_type": "markdown",
      "metadata": {
        "id": "view-in-github",
        "colab_type": "text"
      },
      "source": [
        "<a href=\"https://colab.research.google.com/github/drewamorbordelon/drewamorbordelon.github.io/blob/master/Build_w2_CPI_Modeling_monthly_classification_asset_classes.ipynb\" target=\"_parent\"><img src=\"https://colab.research.google.com/assets/colab-badge.svg\" alt=\"Open In Colab\"/></a>"
      ]
    },
    {
      "cell_type": "code",
      "metadata": {
        "id": "kfFB6Qj0qhPv",
        "colab_type": "code",
        "colab": {
          "base_uri": "https://localhost:8080/",
          "height": 1000
        },
        "outputId": "fc2ebaf8-1c84-4937-d506-403b166986b4"
      },
      "source": [
        "%matplotlib inline\n",
        "import sys\n",
        "\n",
        "!pip install category_encoders==2.*\n",
        "\n",
        "import numpy as np\n",
        "import pandas as pd\n",
        "import matplotlib.pyplot as plt\n",
        "from category_encoders import OneHotEncoder, OrdinalEncoder\n",
        "from sklearn.ensemble import RandomForestRegressor\n",
        "from sklearn.impute import SimpleImputer\n",
        "from sklearn.linear_model import LinearRegression\n",
        "from sklearn.metrics import mean_absolute_error\n",
        "from sklearn.model_selection import GridSearchCV\n",
        "from sklearn.pipeline import make_pipeline\n",
        "from sklearn.metrics import accuracy_score\n",
        "from sklearn.pipeline import make_pipeline\n",
        "from sklearn.ensemble import RandomForestClassifier\n",
        "from sklearn.preprocessing import StandardScaler\n",
        "from sklearn.tree import DecisionTreeClassifier\n",
        "from sklearn.linear_model import LogisticRegression\n",
        "from sklearn.feature_selection import SelectKBest\n",
        "\n",
        "if 'google.colab' in sys.modules:\n",
        "    # Install packages in Colab\n",
        "    !pip install category_encoders==2.*\n",
        "    !pip install eli5\n",
        "    !pip install pandas-profiling==2.*\n",
        "    !pip install pdpbox\n",
        "    !pip install shap\n",
        "\n",
        "import warnings\n",
        "warnings.filterwarnings(action='ignore', category=FutureWarning, module='xgboost')"
      ],
      "execution_count": 82,
      "outputs": [
        {
          "output_type": "stream",
          "text": [
            "Requirement already satisfied: category_encoders==2.* in /usr/local/lib/python3.6/dist-packages (2.2.2)\n",
            "Requirement already satisfied: scikit-learn>=0.20.0 in /usr/local/lib/python3.6/dist-packages (from category_encoders==2.*) (0.22.2.post1)\n",
            "Requirement already satisfied: numpy>=1.14.0 in /usr/local/lib/python3.6/dist-packages (from category_encoders==2.*) (1.18.5)\n",
            "Requirement already satisfied: pandas>=0.21.1 in /usr/local/lib/python3.6/dist-packages (from category_encoders==2.*) (1.0.5)\n",
            "Requirement already satisfied: scipy>=1.0.0 in /usr/local/lib/python3.6/dist-packages (from category_encoders==2.*) (1.4.1)\n",
            "Requirement already satisfied: patsy>=0.5.1 in /usr/local/lib/python3.6/dist-packages (from category_encoders==2.*) (0.5.1)\n",
            "Requirement already satisfied: statsmodels>=0.9.0 in /usr/local/lib/python3.6/dist-packages (from category_encoders==2.*) (0.10.2)\n",
            "Requirement already satisfied: joblib>=0.11 in /usr/local/lib/python3.6/dist-packages (from scikit-learn>=0.20.0->category_encoders==2.*) (0.16.0)\n",
            "Requirement already satisfied: python-dateutil>=2.6.1 in /usr/local/lib/python3.6/dist-packages (from pandas>=0.21.1->category_encoders==2.*) (2.8.1)\n",
            "Requirement already satisfied: pytz>=2017.2 in /usr/local/lib/python3.6/dist-packages (from pandas>=0.21.1->category_encoders==2.*) (2018.9)\n",
            "Requirement already satisfied: six in /usr/local/lib/python3.6/dist-packages (from patsy>=0.5.1->category_encoders==2.*) (1.15.0)\n",
            "Requirement already satisfied: category_encoders==2.* in /usr/local/lib/python3.6/dist-packages (2.2.2)\n",
            "Requirement already satisfied: numpy>=1.14.0 in /usr/local/lib/python3.6/dist-packages (from category_encoders==2.*) (1.18.5)\n",
            "Requirement already satisfied: pandas>=0.21.1 in /usr/local/lib/python3.6/dist-packages (from category_encoders==2.*) (1.0.5)\n",
            "Requirement already satisfied: statsmodels>=0.9.0 in /usr/local/lib/python3.6/dist-packages (from category_encoders==2.*) (0.10.2)\n",
            "Requirement already satisfied: scipy>=1.0.0 in /usr/local/lib/python3.6/dist-packages (from category_encoders==2.*) (1.4.1)\n",
            "Requirement already satisfied: patsy>=0.5.1 in /usr/local/lib/python3.6/dist-packages (from category_encoders==2.*) (0.5.1)\n",
            "Requirement already satisfied: scikit-learn>=0.20.0 in /usr/local/lib/python3.6/dist-packages (from category_encoders==2.*) (0.22.2.post1)\n",
            "Requirement already satisfied: python-dateutil>=2.6.1 in /usr/local/lib/python3.6/dist-packages (from pandas>=0.21.1->category_encoders==2.*) (2.8.1)\n",
            "Requirement already satisfied: pytz>=2017.2 in /usr/local/lib/python3.6/dist-packages (from pandas>=0.21.1->category_encoders==2.*) (2018.9)\n",
            "Requirement already satisfied: six in /usr/local/lib/python3.6/dist-packages (from patsy>=0.5.1->category_encoders==2.*) (1.15.0)\n",
            "Requirement already satisfied: joblib>=0.11 in /usr/local/lib/python3.6/dist-packages (from scikit-learn>=0.20.0->category_encoders==2.*) (0.16.0)\n",
            "Requirement already satisfied: eli5 in /usr/local/lib/python3.6/dist-packages (0.10.1)\n",
            "Requirement already satisfied: graphviz in /usr/local/lib/python3.6/dist-packages (from eli5) (0.10.1)\n",
            "Requirement already satisfied: scipy in /usr/local/lib/python3.6/dist-packages (from eli5) (1.4.1)\n",
            "Requirement already satisfied: attrs>16.0.0 in /usr/local/lib/python3.6/dist-packages (from eli5) (20.2.0)\n",
            "Requirement already satisfied: numpy>=1.9.0 in /usr/local/lib/python3.6/dist-packages (from eli5) (1.18.5)\n",
            "Requirement already satisfied: six in /usr/local/lib/python3.6/dist-packages (from eli5) (1.15.0)\n",
            "Requirement already satisfied: tabulate>=0.7.7 in /usr/local/lib/python3.6/dist-packages (from eli5) (0.8.7)\n",
            "Requirement already satisfied: scikit-learn>=0.18 in /usr/local/lib/python3.6/dist-packages (from eli5) (0.22.2.post1)\n",
            "Requirement already satisfied: jinja2 in /usr/local/lib/python3.6/dist-packages (from eli5) (2.11.2)\n",
            "Requirement already satisfied: joblib>=0.11 in /usr/local/lib/python3.6/dist-packages (from scikit-learn>=0.18->eli5) (0.16.0)\n",
            "Requirement already satisfied: MarkupSafe>=0.23 in /usr/local/lib/python3.6/dist-packages (from jinja2->eli5) (1.1.1)\n",
            "Requirement already satisfied: pandas-profiling==2.* in /usr/local/lib/python3.6/dist-packages (2.9.0)\n",
            "Requirement already satisfied: tqdm>=4.43.0 in /usr/local/lib/python3.6/dist-packages (from pandas-profiling==2.*) (4.49.0)\n",
            "Requirement already satisfied: matplotlib>=3.2.0 in /usr/local/lib/python3.6/dist-packages (from pandas-profiling==2.*) (3.2.2)\n",
            "Requirement already satisfied: ipywidgets>=7.5.1 in /usr/local/lib/python3.6/dist-packages (from pandas-profiling==2.*) (7.5.1)\n",
            "Requirement already satisfied: confuse>=1.0.0 in /usr/local/lib/python3.6/dist-packages (from pandas-profiling==2.*) (1.3.0)\n",
            "Requirement already satisfied: requests>=2.23.0 in /usr/local/lib/python3.6/dist-packages (from pandas-profiling==2.*) (2.23.0)\n",
            "Requirement already satisfied: attrs>=19.3.0 in /usr/local/lib/python3.6/dist-packages (from pandas-profiling==2.*) (20.2.0)\n",
            "Requirement already satisfied: phik>=0.9.10 in /usr/local/lib/python3.6/dist-packages (from pandas-profiling==2.*) (0.10.0)\n",
            "Requirement already satisfied: pandas!=1.0.0,!=1.0.1,!=1.0.2,!=1.1.0,>=0.25.3 in /usr/local/lib/python3.6/dist-packages (from pandas-profiling==2.*) (1.0.5)\n",
            "Requirement already satisfied: numpy>=1.16.0 in /usr/local/lib/python3.6/dist-packages (from pandas-profiling==2.*) (1.18.5)\n",
            "Requirement already satisfied: scipy>=1.4.1 in /usr/local/lib/python3.6/dist-packages (from pandas-profiling==2.*) (1.4.1)\n",
            "Requirement already satisfied: jinja2>=2.11.1 in /usr/local/lib/python3.6/dist-packages (from pandas-profiling==2.*) (2.11.2)\n",
            "Requirement already satisfied: seaborn>=0.10.1 in /usr/local/lib/python3.6/dist-packages (from pandas-profiling==2.*) (0.10.1)\n",
            "Requirement already satisfied: missingno>=0.4.2 in /usr/local/lib/python3.6/dist-packages (from pandas-profiling==2.*) (0.4.2)\n",
            "Requirement already satisfied: joblib in /usr/local/lib/python3.6/dist-packages (from pandas-profiling==2.*) (0.16.0)\n",
            "Requirement already satisfied: tangled-up-in-unicode>=0.0.6 in /usr/local/lib/python3.6/dist-packages (from pandas-profiling==2.*) (0.0.6)\n",
            "Requirement already satisfied: visions[type_image_path]==0.5.0 in /usr/local/lib/python3.6/dist-packages (from pandas-profiling==2.*) (0.5.0)\n",
            "Requirement already satisfied: htmlmin>=0.1.12 in /usr/local/lib/python3.6/dist-packages (from pandas-profiling==2.*) (0.1.12)\n",
            "Requirement already satisfied: python-dateutil>=2.1 in /usr/local/lib/python3.6/dist-packages (from matplotlib>=3.2.0->pandas-profiling==2.*) (2.8.1)\n",
            "Requirement already satisfied: cycler>=0.10 in /usr/local/lib/python3.6/dist-packages (from matplotlib>=3.2.0->pandas-profiling==2.*) (0.10.0)\n",
            "Requirement already satisfied: kiwisolver>=1.0.1 in /usr/local/lib/python3.6/dist-packages (from matplotlib>=3.2.0->pandas-profiling==2.*) (1.2.0)\n",
            "Requirement already satisfied: pyparsing!=2.0.4,!=2.1.2,!=2.1.6,>=2.0.1 in /usr/local/lib/python3.6/dist-packages (from matplotlib>=3.2.0->pandas-profiling==2.*) (2.4.7)\n",
            "Requirement already satisfied: ipykernel>=4.5.1 in /usr/local/lib/python3.6/dist-packages (from ipywidgets>=7.5.1->pandas-profiling==2.*) (4.10.1)\n",
            "Requirement already satisfied: widgetsnbextension~=3.5.0 in /usr/local/lib/python3.6/dist-packages (from ipywidgets>=7.5.1->pandas-profiling==2.*) (3.5.1)\n",
            "Requirement already satisfied: nbformat>=4.2.0 in /usr/local/lib/python3.6/dist-packages (from ipywidgets>=7.5.1->pandas-profiling==2.*) (5.0.7)\n",
            "Requirement already satisfied: traitlets>=4.3.1 in /usr/local/lib/python3.6/dist-packages (from ipywidgets>=7.5.1->pandas-profiling==2.*) (4.3.3)\n",
            "Requirement already satisfied: ipython>=4.0.0; python_version >= \"3.3\" in /usr/local/lib/python3.6/dist-packages (from ipywidgets>=7.5.1->pandas-profiling==2.*) (5.5.0)\n",
            "Requirement already satisfied: pyyaml in /usr/local/lib/python3.6/dist-packages (from confuse>=1.0.0->pandas-profiling==2.*) (3.13)\n",
            "Requirement already satisfied: certifi>=2017.4.17 in /usr/local/lib/python3.6/dist-packages (from requests>=2.23.0->pandas-profiling==2.*) (2020.6.20)\n",
            "Requirement already satisfied: urllib3!=1.25.0,!=1.25.1,<1.26,>=1.21.1 in /usr/local/lib/python3.6/dist-packages (from requests>=2.23.0->pandas-profiling==2.*) (1.24.3)\n",
            "Requirement already satisfied: chardet<4,>=3.0.2 in /usr/local/lib/python3.6/dist-packages (from requests>=2.23.0->pandas-profiling==2.*) (3.0.4)\n",
            "Requirement already satisfied: idna<3,>=2.5 in /usr/local/lib/python3.6/dist-packages (from requests>=2.23.0->pandas-profiling==2.*) (2.10)\n",
            "Requirement already satisfied: numba>=0.38.1 in /usr/local/lib/python3.6/dist-packages (from phik>=0.9.10->pandas-profiling==2.*) (0.48.0)\n",
            "Requirement already satisfied: pytz>=2017.2 in /usr/local/lib/python3.6/dist-packages (from pandas!=1.0.0,!=1.0.1,!=1.0.2,!=1.1.0,>=0.25.3->pandas-profiling==2.*) (2018.9)\n",
            "Requirement already satisfied: MarkupSafe>=0.23 in /usr/local/lib/python3.6/dist-packages (from jinja2>=2.11.1->pandas-profiling==2.*) (1.1.1)\n",
            "Requirement already satisfied: networkx>=2.4 in /usr/local/lib/python3.6/dist-packages (from visions[type_image_path]==0.5.0->pandas-profiling==2.*) (2.5)\n",
            "Requirement already satisfied: imagehash; extra == \"type_image_path\" in /usr/local/lib/python3.6/dist-packages (from visions[type_image_path]==0.5.0->pandas-profiling==2.*) (4.1.0)\n",
            "Requirement already satisfied: Pillow; extra == \"type_image_path\" in /usr/local/lib/python3.6/dist-packages (from visions[type_image_path]==0.5.0->pandas-profiling==2.*) (7.0.0)\n",
            "Requirement already satisfied: six>=1.5 in /usr/local/lib/python3.6/dist-packages (from python-dateutil>=2.1->matplotlib>=3.2.0->pandas-profiling==2.*) (1.15.0)\n",
            "Requirement already satisfied: tornado>=4.0 in /usr/local/lib/python3.6/dist-packages (from ipykernel>=4.5.1->ipywidgets>=7.5.1->pandas-profiling==2.*) (5.1.1)\n",
            "Requirement already satisfied: jupyter-client in /usr/local/lib/python3.6/dist-packages (from ipykernel>=4.5.1->ipywidgets>=7.5.1->pandas-profiling==2.*) (5.3.5)\n",
            "Requirement already satisfied: notebook>=4.4.1 in /usr/local/lib/python3.6/dist-packages (from widgetsnbextension~=3.5.0->ipywidgets>=7.5.1->pandas-profiling==2.*) (5.3.1)\n",
            "Requirement already satisfied: jupyter-core in /usr/local/lib/python3.6/dist-packages (from nbformat>=4.2.0->ipywidgets>=7.5.1->pandas-profiling==2.*) (4.6.3)\n",
            "Requirement already satisfied: jsonschema!=2.5.0,>=2.4 in /usr/local/lib/python3.6/dist-packages (from nbformat>=4.2.0->ipywidgets>=7.5.1->pandas-profiling==2.*) (2.6.0)\n",
            "Requirement already satisfied: ipython-genutils in /usr/local/lib/python3.6/dist-packages (from nbformat>=4.2.0->ipywidgets>=7.5.1->pandas-profiling==2.*) (0.2.0)\n",
            "Requirement already satisfied: decorator in /usr/local/lib/python3.6/dist-packages (from traitlets>=4.3.1->ipywidgets>=7.5.1->pandas-profiling==2.*) (4.4.2)\n",
            "Requirement already satisfied: setuptools>=18.5 in /usr/local/lib/python3.6/dist-packages (from ipython>=4.0.0; python_version >= \"3.3\"->ipywidgets>=7.5.1->pandas-profiling==2.*) (50.3.0)\n",
            "Requirement already satisfied: pygments in /usr/local/lib/python3.6/dist-packages (from ipython>=4.0.0; python_version >= \"3.3\"->ipywidgets>=7.5.1->pandas-profiling==2.*) (2.6.1)\n",
            "Requirement already satisfied: prompt-toolkit<2.0.0,>=1.0.4 in /usr/local/lib/python3.6/dist-packages (from ipython>=4.0.0; python_version >= \"3.3\"->ipywidgets>=7.5.1->pandas-profiling==2.*) (1.0.18)\n",
            "Requirement already satisfied: pexpect; sys_platform != \"win32\" in /usr/local/lib/python3.6/dist-packages (from ipython>=4.0.0; python_version >= \"3.3\"->ipywidgets>=7.5.1->pandas-profiling==2.*) (4.8.0)\n",
            "Requirement already satisfied: pickleshare in /usr/local/lib/python3.6/dist-packages (from ipython>=4.0.0; python_version >= \"3.3\"->ipywidgets>=7.5.1->pandas-profiling==2.*) (0.7.5)\n",
            "Requirement already satisfied: simplegeneric>0.8 in /usr/local/lib/python3.6/dist-packages (from ipython>=4.0.0; python_version >= \"3.3\"->ipywidgets>=7.5.1->pandas-profiling==2.*) (0.8.1)\n",
            "Requirement already satisfied: llvmlite<0.32.0,>=0.31.0dev0 in /usr/local/lib/python3.6/dist-packages (from numba>=0.38.1->phik>=0.9.10->pandas-profiling==2.*) (0.31.0)\n",
            "Requirement already satisfied: PyWavelets in /usr/local/lib/python3.6/dist-packages (from imagehash; extra == \"type_image_path\"->visions[type_image_path]==0.5.0->pandas-profiling==2.*) (1.1.1)\n",
            "Requirement already satisfied: pyzmq>=13 in /usr/local/lib/python3.6/dist-packages (from jupyter-client->ipykernel>=4.5.1->ipywidgets>=7.5.1->pandas-profiling==2.*) (19.0.2)\n",
            "Requirement already satisfied: Send2Trash in /usr/local/lib/python3.6/dist-packages (from notebook>=4.4.1->widgetsnbextension~=3.5.0->ipywidgets>=7.5.1->pandas-profiling==2.*) (1.5.0)\n",
            "Requirement already satisfied: nbconvert in /usr/local/lib/python3.6/dist-packages (from notebook>=4.4.1->widgetsnbextension~=3.5.0->ipywidgets>=7.5.1->pandas-profiling==2.*) (5.6.1)\n",
            "Requirement already satisfied: terminado>=0.8.1 in /usr/local/lib/python3.6/dist-packages (from notebook>=4.4.1->widgetsnbextension~=3.5.0->ipywidgets>=7.5.1->pandas-profiling==2.*) (0.8.3)\n",
            "Requirement already satisfied: wcwidth in /usr/local/lib/python3.6/dist-packages (from prompt-toolkit<2.0.0,>=1.0.4->ipython>=4.0.0; python_version >= \"3.3\"->ipywidgets>=7.5.1->pandas-profiling==2.*) (0.2.5)\n",
            "Requirement already satisfied: ptyprocess>=0.5 in /usr/local/lib/python3.6/dist-packages (from pexpect; sys_platform != \"win32\"->ipython>=4.0.0; python_version >= \"3.3\"->ipywidgets>=7.5.1->pandas-profiling==2.*) (0.6.0)\n",
            "Requirement already satisfied: bleach in /usr/local/lib/python3.6/dist-packages (from nbconvert->notebook>=4.4.1->widgetsnbextension~=3.5.0->ipywidgets>=7.5.1->pandas-profiling==2.*) (3.2.0)\n",
            "Requirement already satisfied: mistune<2,>=0.8.1 in /usr/local/lib/python3.6/dist-packages (from nbconvert->notebook>=4.4.1->widgetsnbextension~=3.5.0->ipywidgets>=7.5.1->pandas-profiling==2.*) (0.8.4)\n",
            "Requirement already satisfied: pandocfilters>=1.4.1 in /usr/local/lib/python3.6/dist-packages (from nbconvert->notebook>=4.4.1->widgetsnbextension~=3.5.0->ipywidgets>=7.5.1->pandas-profiling==2.*) (1.4.2)\n",
            "Requirement already satisfied: testpath in /usr/local/lib/python3.6/dist-packages (from nbconvert->notebook>=4.4.1->widgetsnbextension~=3.5.0->ipywidgets>=7.5.1->pandas-profiling==2.*) (0.4.4)\n",
            "Requirement already satisfied: entrypoints>=0.2.2 in /usr/local/lib/python3.6/dist-packages (from nbconvert->notebook>=4.4.1->widgetsnbextension~=3.5.0->ipywidgets>=7.5.1->pandas-profiling==2.*) (0.3)\n",
            "Requirement already satisfied: defusedxml in /usr/local/lib/python3.6/dist-packages (from nbconvert->notebook>=4.4.1->widgetsnbextension~=3.5.0->ipywidgets>=7.5.1->pandas-profiling==2.*) (0.6.0)\n",
            "Requirement already satisfied: webencodings in /usr/local/lib/python3.6/dist-packages (from bleach->nbconvert->notebook>=4.4.1->widgetsnbextension~=3.5.0->ipywidgets>=7.5.1->pandas-profiling==2.*) (0.5.1)\n",
            "Requirement already satisfied: packaging in /usr/local/lib/python3.6/dist-packages (from bleach->nbconvert->notebook>=4.4.1->widgetsnbextension~=3.5.0->ipywidgets>=7.5.1->pandas-profiling==2.*) (20.4)\n",
            "Requirement already satisfied: pdpbox in /usr/local/lib/python3.6/dist-packages (0.2.0)\n",
            "Requirement already satisfied: scipy in /usr/local/lib/python3.6/dist-packages (from pdpbox) (1.4.1)\n",
            "Requirement already satisfied: joblib in /usr/local/lib/python3.6/dist-packages (from pdpbox) (0.16.0)\n",
            "Requirement already satisfied: pandas in /usr/local/lib/python3.6/dist-packages (from pdpbox) (1.0.5)\n",
            "Requirement already satisfied: numpy in /usr/local/lib/python3.6/dist-packages (from pdpbox) (1.18.5)\n",
            "Requirement already satisfied: matplotlib>=2.1.2 in /usr/local/lib/python3.6/dist-packages (from pdpbox) (3.2.2)\n",
            "Requirement already satisfied: scikit-learn in /usr/local/lib/python3.6/dist-packages (from pdpbox) (0.22.2.post1)\n",
            "Requirement already satisfied: psutil in /usr/local/lib/python3.6/dist-packages (from pdpbox) (5.4.8)\n",
            "Requirement already satisfied: pytz>=2017.2 in /usr/local/lib/python3.6/dist-packages (from pandas->pdpbox) (2018.9)\n",
            "Requirement already satisfied: python-dateutil>=2.6.1 in /usr/local/lib/python3.6/dist-packages (from pandas->pdpbox) (2.8.1)\n",
            "Requirement already satisfied: kiwisolver>=1.0.1 in /usr/local/lib/python3.6/dist-packages (from matplotlib>=2.1.2->pdpbox) (1.2.0)\n",
            "Requirement already satisfied: pyparsing!=2.0.4,!=2.1.2,!=2.1.6,>=2.0.1 in /usr/local/lib/python3.6/dist-packages (from matplotlib>=2.1.2->pdpbox) (2.4.7)\n",
            "Requirement already satisfied: cycler>=0.10 in /usr/local/lib/python3.6/dist-packages (from matplotlib>=2.1.2->pdpbox) (0.10.0)\n",
            "Requirement already satisfied: six>=1.5 in /usr/local/lib/python3.6/dist-packages (from python-dateutil>=2.6.1->pandas->pdpbox) (1.15.0)\n",
            "Requirement already satisfied: shap in /usr/local/lib/python3.6/dist-packages (0.36.0)\n",
            "Requirement already satisfied: scipy in /usr/local/lib/python3.6/dist-packages (from shap) (1.4.1)\n",
            "Requirement already satisfied: numba in /usr/local/lib/python3.6/dist-packages (from shap) (0.48.0)\n",
            "Requirement already satisfied: slicer in /usr/local/lib/python3.6/dist-packages (from shap) (0.0.4)\n",
            "Requirement already satisfied: numpy in /usr/local/lib/python3.6/dist-packages (from shap) (1.18.5)\n",
            "Requirement already satisfied: pandas in /usr/local/lib/python3.6/dist-packages (from shap) (1.0.5)\n",
            "Requirement already satisfied: tqdm>4.25.0 in /usr/local/lib/python3.6/dist-packages (from shap) (4.49.0)\n",
            "Requirement already satisfied: scikit-learn in /usr/local/lib/python3.6/dist-packages (from shap) (0.22.2.post1)\n",
            "Requirement already satisfied: setuptools in /usr/local/lib/python3.6/dist-packages (from numba->shap) (50.3.0)\n",
            "Requirement already satisfied: llvmlite<0.32.0,>=0.31.0dev0 in /usr/local/lib/python3.6/dist-packages (from numba->shap) (0.31.0)\n",
            "Requirement already satisfied: pytz>=2017.2 in /usr/local/lib/python3.6/dist-packages (from pandas->shap) (2018.9)\n",
            "Requirement already satisfied: python-dateutil>=2.6.1 in /usr/local/lib/python3.6/dist-packages (from pandas->shap) (2.8.1)\n",
            "Requirement already satisfied: joblib>=0.11 in /usr/local/lib/python3.6/dist-packages (from scikit-learn->shap) (0.16.0)\n",
            "Requirement already satisfied: six>=1.5 in /usr/local/lib/python3.6/dist-packages (from python-dateutil>=2.6.1->pandas->shap) (1.15.0)\n"
          ],
          "name": "stdout"
        }
      ]
    },
    {
      "cell_type": "code",
      "metadata": {
        "id": "Fgxjb2N1qomb",
        "colab_type": "code",
        "colab": {}
      },
      "source": [
        "df = pd.read_csv('/content/monthly economic data.csv', parse_dates=['date'], index_col='date')"
      ],
      "execution_count": 83,
      "outputs": []
    },
    {
      "cell_type": "code",
      "metadata": {
        "id": "3EbCVtNOLEfS",
        "colab_type": "code",
        "colab": {
          "base_uri": "https://localhost:8080/",
          "height": 275
        },
        "outputId": "118f12a6-03e9-450e-a663-4c281e67d90a"
      },
      "source": [
        "df.tail()"
      ],
      "execution_count": 84,
      "outputs": [
        {
          "output_type": "execute_result",
          "data": {
            "text/html": [
              "<div>\n",
              "<style scoped>\n",
              "    .dataframe tbody tr th:only-of-type {\n",
              "        vertical-align: middle;\n",
              "    }\n",
              "\n",
              "    .dataframe tbody tr th {\n",
              "        vertical-align: top;\n",
              "    }\n",
              "\n",
              "    .dataframe thead th {\n",
              "        text-align: right;\n",
              "    }\n",
              "</style>\n",
              "<table border=\"1\" class=\"dataframe\">\n",
              "  <thead>\n",
              "    <tr style=\"text-align: right;\">\n",
              "      <th></th>\n",
              "      <th>ism_pmi</th>\n",
              "      <th>head_CPI</th>\n",
              "      <th>head_CPI_roc</th>\n",
              "      <th>head_CPI_bps</th>\n",
              "      <th>core_CPI</th>\n",
              "      <th>core_CPIyoy</th>\n",
              "      <th>CRB</th>\n",
              "      <th>10yr_rate</th>\n",
              "      <th>10yr_roc</th>\n",
              "      <th>per_chg_yoy</th>\n",
              "      <th>swiss10yr</th>\n",
              "      <th>swiss_roc</th>\n",
              "      <th>dxy</th>\n",
              "      <th>dxy_roc</th>\n",
              "      <th>ind_pro_man</th>\n",
              "      <th>wti</th>\n",
              "      <th>wti_roc_qoq</th>\n",
              "      <th>wti_yoy</th>\n",
              "      <th>ba_credit_spread</th>\n",
              "      <th>copper_fut</th>\n",
              "      <th>copper_chg_yoy</th>\n",
              "      <th>gold</th>\n",
              "      <th>gold_roc_qoq</th>\n",
              "      <th>gold_chg_yoy</th>\n",
              "      <th>copper/gold</th>\n",
              "      <th>silver</th>\n",
              "      <th>gold/silver</th>\n",
              "      <th>pmi</th>\n",
              "      <th>roc_pmi</th>\n",
              "      <th>rocpmi_bps</th>\n",
              "      <th>fed rate</th>\n",
              "    </tr>\n",
              "    <tr>\n",
              "      <th>date</th>\n",
              "      <th></th>\n",
              "      <th></th>\n",
              "      <th></th>\n",
              "      <th></th>\n",
              "      <th></th>\n",
              "      <th></th>\n",
              "      <th></th>\n",
              "      <th></th>\n",
              "      <th></th>\n",
              "      <th></th>\n",
              "      <th></th>\n",
              "      <th></th>\n",
              "      <th></th>\n",
              "      <th></th>\n",
              "      <th></th>\n",
              "      <th></th>\n",
              "      <th></th>\n",
              "      <th></th>\n",
              "      <th></th>\n",
              "      <th></th>\n",
              "      <th></th>\n",
              "      <th></th>\n",
              "      <th></th>\n",
              "      <th></th>\n",
              "      <th></th>\n",
              "      <th></th>\n",
              "      <th></th>\n",
              "      <th></th>\n",
              "      <th></th>\n",
              "      <th></th>\n",
              "      <th></th>\n",
              "    </tr>\n",
              "  </thead>\n",
              "  <tbody>\n",
              "    <tr>\n",
              "      <th>2020-04-01</th>\n",
              "      <td>41.5</td>\n",
              "      <td>255.902</td>\n",
              "      <td>0.376163</td>\n",
              "      <td>-114.216724</td>\n",
              "      <td>265.601</td>\n",
              "      <td>1.43831</td>\n",
              "      <td>117.20</td>\n",
              "      <td>0.64</td>\n",
              "      <td>-57.615894</td>\n",
              "      <td>-1.87</td>\n",
              "      <td>-0.487</td>\n",
              "      <td>-30.229226</td>\n",
              "      <td>99.57</td>\n",
              "      <td>2.238423</td>\n",
              "      <td>84.5913</td>\n",
              "      <td>16.55</td>\n",
              "      <td>-71.227399</td>\n",
              "      <td>-74.08393</td>\n",
              "      <td>1.697143</td>\n",
              "      <td>2.3055</td>\n",
              "      <td>-21.44009</td>\n",
              "      <td>1685.05</td>\n",
              "      <td>5.964659</td>\n",
              "      <td>33.58363</td>\n",
              "      <td>0.001368</td>\n",
              "      <td>14.973</td>\n",
              "      <td>112.539237</td>\n",
              "      <td>100.8026</td>\n",
              "      <td>-5.172839</td>\n",
              "      <td>-496.864463</td>\n",
              "      <td>0.05</td>\n",
              "    </tr>\n",
              "    <tr>\n",
              "      <th>2020-05-01</th>\n",
              "      <td>43.1</td>\n",
              "      <td>255.768</td>\n",
              "      <td>0.235532</td>\n",
              "      <td>-14.063049</td>\n",
              "      <td>265.441</td>\n",
              "      <td>1.23647</td>\n",
              "      <td>132.24</td>\n",
              "      <td>0.65</td>\n",
              "      <td>-42.477876</td>\n",
              "      <td>-1.49</td>\n",
              "      <td>-0.471</td>\n",
              "      <td>-43.389423</td>\n",
              "      <td>98.34</td>\n",
              "      <td>0.214002</td>\n",
              "      <td>87.8986</td>\n",
              "      <td>28.56</td>\n",
              "      <td>-43.490305</td>\n",
              "      <td>-53.04948</td>\n",
              "      <td>1.454000</td>\n",
              "      <td>2.4255</td>\n",
              "      <td>-12.92939</td>\n",
              "      <td>1728.30</td>\n",
              "      <td>9.032067</td>\n",
              "      <td>33.15201</td>\n",
              "      <td>0.001403</td>\n",
              "      <td>18.499</td>\n",
              "      <td>93.426672</td>\n",
              "      <td>84.5913</td>\n",
              "      <td>-19.722568</td>\n",
              "      <td>-1454.972961</td>\n",
              "      <td>0.05</td>\n",
              "    </tr>\n",
              "    <tr>\n",
              "      <th>2020-06-01</th>\n",
              "      <td>52.6</td>\n",
              "      <td>257.214</td>\n",
              "      <td>0.709470</td>\n",
              "      <td>47.393775</td>\n",
              "      <td>266.065</td>\n",
              "      <td>1.19426</td>\n",
              "      <td>137.97</td>\n",
              "      <td>0.66</td>\n",
              "      <td>-5.714286</td>\n",
              "      <td>-1.34</td>\n",
              "      <td>-0.439</td>\n",
              "      <td>19.293478</td>\n",
              "      <td>97.39</td>\n",
              "      <td>-1.675921</td>\n",
              "      <td>94.6167</td>\n",
              "      <td>38.31</td>\n",
              "      <td>31.153714</td>\n",
              "      <td>-29.91218</td>\n",
              "      <td>1.201818</td>\n",
              "      <td>2.7135</td>\n",
              "      <td>-2.16975</td>\n",
              "      <td>1780.67</td>\n",
              "      <td>13.323914</td>\n",
              "      <td>25.29720</td>\n",
              "      <td>0.001524</td>\n",
              "      <td>18.064</td>\n",
              "      <td>98.575620</td>\n",
              "      <td>87.8986</td>\n",
              "      <td>-16.685845</td>\n",
              "      <td>303.672364</td>\n",
              "      <td>0.08</td>\n",
              "    </tr>\n",
              "    <tr>\n",
              "      <th>2020-07-01</th>\n",
              "      <td>54.2</td>\n",
              "      <td>258.723</td>\n",
              "      <td>1.029338</td>\n",
              "      <td>31.986791</td>\n",
              "      <td>267.715</td>\n",
              "      <td>1.56609</td>\n",
              "      <td>143.69</td>\n",
              "      <td>0.55</td>\n",
              "      <td>-14.062500</td>\n",
              "      <td>-1.47</td>\n",
              "      <td>-0.529</td>\n",
              "      <td>8.624230</td>\n",
              "      <td>93.35</td>\n",
              "      <td>-6.246862</td>\n",
              "      <td>98.3754</td>\n",
              "      <td>40.71</td>\n",
              "      <td>145.981873</td>\n",
              "      <td>-29.01482</td>\n",
              "      <td>1.173182</td>\n",
              "      <td>2.8680</td>\n",
              "      <td>7.25890</td>\n",
              "      <td>1974.69</td>\n",
              "      <td>17.188807</td>\n",
              "      <td>38.03782</td>\n",
              "      <td>0.001452</td>\n",
              "      <td>24.216</td>\n",
              "      <td>81.544846</td>\n",
              "      <td>94.6167</td>\n",
              "      <td>-10.821074</td>\n",
              "      <td>586.477053</td>\n",
              "      <td>0.09</td>\n",
              "    </tr>\n",
              "    <tr>\n",
              "      <th>2020-08-01</th>\n",
              "      <td>56.0</td>\n",
              "      <td>259.681</td>\n",
              "      <td>1.321529</td>\n",
              "      <td>29.219150</td>\n",
              "      <td>268.747</td>\n",
              "      <td>1.72875</td>\n",
              "      <td>153.21</td>\n",
              "      <td>0.72</td>\n",
              "      <td>10.769231</td>\n",
              "      <td>-0.78</td>\n",
              "      <td>-0.410</td>\n",
              "      <td>-12.951168</td>\n",
              "      <td>92.14</td>\n",
              "      <td>-6.304657</td>\n",
              "      <td>99.3189</td>\n",
              "      <td>42.34</td>\n",
              "      <td>48.249300</td>\n",
              "      <td>-22.75132</td>\n",
              "      <td>1.024286</td>\n",
              "      <td>3.0410</td>\n",
              "      <td>13.99353</td>\n",
              "      <td>1968.03</td>\n",
              "      <td>13.870856</td>\n",
              "      <td>28.12224</td>\n",
              "      <td>0.001545</td>\n",
              "      <td>28.594</td>\n",
              "      <td>68.826677</td>\n",
              "      <td>98.3754</td>\n",
              "      <td>-6.918340</td>\n",
              "      <td>390.273402</td>\n",
              "      <td>0.10</td>\n",
              "    </tr>\n",
              "  </tbody>\n",
              "</table>\n",
              "</div>"
            ],
            "text/plain": [
              "            ism_pmi  head_CPI  head_CPI_roc  ...    roc_pmi   rocpmi_bps  fed rate\n",
              "date                                         ...                                  \n",
              "2020-04-01     41.5   255.902      0.376163  ...  -5.172839  -496.864463      0.05\n",
              "2020-05-01     43.1   255.768      0.235532  ... -19.722568 -1454.972961      0.05\n",
              "2020-06-01     52.6   257.214      0.709470  ... -16.685845   303.672364      0.08\n",
              "2020-07-01     54.2   258.723      1.029338  ... -10.821074   586.477053      0.09\n",
              "2020-08-01     56.0   259.681      1.321529  ...  -6.918340   390.273402      0.10\n",
              "\n",
              "[5 rows x 31 columns]"
            ]
          },
          "metadata": {
            "tags": []
          },
          "execution_count": 84
        }
      ]
    },
    {
      "cell_type": "code",
      "metadata": {
        "id": "S6rHJe-CZppc",
        "colab_type": "code",
        "colab": {}
      },
      "source": [
        "def wrangle(df):\n",
        "\n",
        "  df = df.copy()\n",
        " \n",
        "  # New Feature `Copper/Gold Ratio`, `Copper/WTI` Ratio\n",
        "  df['Copper/WTI Ratio'] = df['copper_fut'] / df['wti']\n",
        "  df['Copper/CRB Ratio'] = df['copper_fut'] / df['CRB']\n",
        "\n",
        "  # New Feature using rolling correlation\n",
        "  df['CD quarter corr'] = df['copper_fut'].rolling(4).corr(df['dxy'])\n",
        "  df['CG quarter gold corr'] = df['copper_fut'].rolling(4).corr(df['gold'])\n",
        "  df['CC quarter gold corr'] = df['copper_fut'].rolling(4).corr(df['CRB'])\n",
        "  \n",
        "  # New Features using rolling correlation\n",
        "  df['DG quarter corr'] = df['dxy'].rolling(4).corr(df['gold'])\n",
        "  df['DCRB quarter corr'] = df['dxy'].rolling(4).corr(df['CRB']) \n",
        "\n",
        "\n",
        "  result = [] \n",
        "  for value in df['head_CPI_bps']: \n",
        "    if value >= 0.00: \n",
        "      result.append(\"Accelerate\")  \n",
        "    else:\n",
        "      result.append(\"Decelerate\")\n",
        "\n",
        "  df['CPI overall'] = result\n",
        "\n",
        "\n",
        "\n",
        "\n",
        "  # Play\n",
        "  result_wti_roc_up=[]\n",
        "  for value in df['wti_roc_qoq']:\n",
        "    if value >= 0.00:\n",
        "      result_wti_roc_up.append('+')\n",
        "    else:\n",
        "      result_wti_roc_up.append('-')\n",
        "\n",
        "  df['wti_roc_up'] = result_wti_roc_up\n",
        "\n",
        "  result_wti_yoy=[]\n",
        "  for value in df['wti_yoy']:\n",
        "    if value >= 0.00:\n",
        "      result_wti_yoy.append('+')\n",
        "    else:\n",
        "      result_wti_yoy.append('-')\n",
        "\n",
        "  df['wti_yoy_up'] = result_wti_yoy\n",
        "\n",
        "  result_gold_roc_up=[]\n",
        "  for value in df['gold_roc_qoq']:\n",
        "    if value >= 0.00:\n",
        "      result_gold_roc_up.append('-')\n",
        "    else:\n",
        "      result_gold_roc_up.append('+')\n",
        "\n",
        "  df['gold_roc_up'] = result_gold_roc_up\n",
        "\n",
        "  result_gold_yoy=[]\n",
        "  for value in df['gold_chg_yoy']:\n",
        "    if value >= 0.00:\n",
        "      result_gold_yoy.append('-')\n",
        "    else:\n",
        "      result_gold_yoy.append('+')\n",
        "\n",
        "  df['gold_yoy_up'] = result_gold_yoy\n",
        "\n",
        "\n",
        "  df = df.drop(['head_CPI_roc', 'head_CPI_bps', 'head_CPI', 'core_CPI', \n",
        "                'core_CPIyoy', 'pmi', 'rocpmi_bps', 'roc_pmi', 'wti_yoy_up', 'gold_yoy_up'],axis=1)                          \n",
        "                # , 'ism_pmi', 'pmi', 'rocpmi_bps', 'roc_pmi, , 'ism_pmi', , 'Copper/CRB Ratio', 'gold', , 'gold_roc_qoq', 'wti_roc_qoq'\n",
        "              \n",
        "                \n",
        "            \n",
        "  df = df.dropna()\n",
        "  return df\n"
      ],
      "execution_count": 85,
      "outputs": []
    },
    {
      "cell_type": "code",
      "metadata": {
        "id": "9B1FloDMeRPi",
        "colab_type": "code",
        "colab": {}
      },
      "source": [
        "df = wrangle(df)"
      ],
      "execution_count": 86,
      "outputs": []
    },
    {
      "cell_type": "code",
      "metadata": {
        "id": "X5XcFSyzJlPE",
        "colab_type": "code",
        "colab": {}
      },
      "source": [
        "# More FEATURES rolling mean and shifting for time series correlation\n",
        "df['MA12_ISM'] = df['ism_pmi'].rolling(window=12).mean().shift(-20)\n",
        "df['MA12_WTI'] = df['wti'].rolling(window=12).mean().shift(-20)\n",
        "df['inverse_ba'] = df['ba_credit_spread'] * -1\n",
        "df['MA12_inverse_ba'] = df['inverse_ba'].rolling(window=12).mean().shift(-20)"
      ],
      "execution_count": 87,
      "outputs": []
    },
    {
      "cell_type": "code",
      "metadata": {
        "id": "079D7Jve5HdE",
        "colab_type": "code",
        "colab": {
          "base_uri": "https://localhost:8080/",
          "height": 724
        },
        "outputId": "d3605f41-ed51-4966-adb3-f9903b59c8c4"
      },
      "source": [
        "df.columns.value_counts()"
      ],
      "execution_count": 88,
      "outputs": [
        {
          "output_type": "execute_result",
          "data": {
            "text/plain": [
              "CD quarter corr         1\n",
              "copper_fut              1\n",
              "wti_yoy                 1\n",
              "MA12_inverse_ba         1\n",
              "inverse_ba              1\n",
              "copper_chg_yoy          1\n",
              "CPI overall             1\n",
              "ind_pro_man             1\n",
              "dxy_roc                 1\n",
              "fed rate                1\n",
              "gold_chg_yoy            1\n",
              "gold_roc_qoq            1\n",
              "gold                    1\n",
              "silver                  1\n",
              "Copper/WTI Ratio        1\n",
              "ba_credit_spread        1\n",
              "10yr_roc                1\n",
              "copper/gold             1\n",
              "10yr_rate               1\n",
              "Copper/CRB Ratio        1\n",
              "CG quarter gold corr    1\n",
              "swiss10yr               1\n",
              "MA12_WTI                1\n",
              "gold/silver             1\n",
              "CRB                     1\n",
              "MA12_ISM                1\n",
              "DCRB quarter corr       1\n",
              "dxy                     1\n",
              "ism_pmi                 1\n",
              "swiss_roc               1\n",
              "wti                     1\n",
              "wti_roc_qoq             1\n",
              "gold_roc_up             1\n",
              "per_chg_yoy             1\n",
              "DG quarter corr         1\n",
              "wti_roc_up              1\n",
              "CC quarter gold corr    1\n",
              "dtype: int64"
            ]
          },
          "metadata": {
            "tags": []
          },
          "execution_count": 88
        }
      ]
    },
    {
      "cell_type": "code",
      "metadata": {
        "id": "YpY4x-M723aj",
        "colab_type": "code",
        "colab": {
          "base_uri": "https://localhost:8080/",
          "height": 185
        },
        "outputId": "029e7017-a310-4752-cb80-2afaeaf11128"
      },
      "source": [
        "df.columns"
      ],
      "execution_count": 89,
      "outputs": [
        {
          "output_type": "execute_result",
          "data": {
            "text/plain": [
              "Index(['ism_pmi', 'CRB', '10yr_rate', '10yr_roc', 'per_chg_yoy', 'swiss10yr',\n",
              "       'swiss_roc', 'dxy', 'dxy_roc', 'ind_pro_man', 'wti', 'wti_roc_qoq',\n",
              "       'wti_yoy', 'ba_credit_spread', 'copper_fut', 'copper_chg_yoy', 'gold',\n",
              "       'gold_roc_qoq', 'gold_chg_yoy', 'copper/gold', 'silver', 'gold/silver',\n",
              "       'fed rate', 'Copper/WTI Ratio', 'Copper/CRB Ratio', 'CD quarter corr',\n",
              "       'CG quarter gold corr', 'CC quarter gold corr', 'DG quarter corr',\n",
              "       'DCRB quarter corr', 'CPI overall', 'wti_roc_up', 'gold_roc_up',\n",
              "       'MA12_ISM', 'MA12_WTI', 'inverse_ba', 'MA12_inverse_ba'],\n",
              "      dtype='object')"
            ]
          },
          "metadata": {
            "tags": []
          },
          "execution_count": 89
        }
      ]
    },
    {
      "cell_type": "code",
      "metadata": {
        "id": "0CWWz3ZT53rh",
        "colab_type": "code",
        "colab": {
          "base_uri": "https://localhost:8080/",
          "height": 184
        },
        "outputId": "f5dc1d06-95e8-4939-83b1-9547fe461ff0"
      },
      "source": [
        "df.head(1)"
      ],
      "execution_count": 90,
      "outputs": [
        {
          "output_type": "execute_result",
          "data": {
            "text/html": [
              "<div>\n",
              "<style scoped>\n",
              "    .dataframe tbody tr th:only-of-type {\n",
              "        vertical-align: middle;\n",
              "    }\n",
              "\n",
              "    .dataframe tbody tr th {\n",
              "        vertical-align: top;\n",
              "    }\n",
              "\n",
              "    .dataframe thead th {\n",
              "        text-align: right;\n",
              "    }\n",
              "</style>\n",
              "<table border=\"1\" class=\"dataframe\">\n",
              "  <thead>\n",
              "    <tr style=\"text-align: right;\">\n",
              "      <th></th>\n",
              "      <th>ism_pmi</th>\n",
              "      <th>CRB</th>\n",
              "      <th>10yr_rate</th>\n",
              "      <th>10yr_roc</th>\n",
              "      <th>per_chg_yoy</th>\n",
              "      <th>swiss10yr</th>\n",
              "      <th>swiss_roc</th>\n",
              "      <th>dxy</th>\n",
              "      <th>dxy_roc</th>\n",
              "      <th>ind_pro_man</th>\n",
              "      <th>wti</th>\n",
              "      <th>wti_roc_qoq</th>\n",
              "      <th>wti_yoy</th>\n",
              "      <th>ba_credit_spread</th>\n",
              "      <th>copper_fut</th>\n",
              "      <th>copper_chg_yoy</th>\n",
              "      <th>gold</th>\n",
              "      <th>gold_roc_qoq</th>\n",
              "      <th>gold_chg_yoy</th>\n",
              "      <th>copper/gold</th>\n",
              "      <th>silver</th>\n",
              "      <th>gold/silver</th>\n",
              "      <th>fed rate</th>\n",
              "      <th>Copper/WTI Ratio</th>\n",
              "      <th>Copper/CRB Ratio</th>\n",
              "      <th>CD quarter corr</th>\n",
              "      <th>CG quarter gold corr</th>\n",
              "      <th>CC quarter gold corr</th>\n",
              "      <th>DG quarter corr</th>\n",
              "      <th>DCRB quarter corr</th>\n",
              "      <th>CPI overall</th>\n",
              "      <th>wti_roc_up</th>\n",
              "      <th>gold_roc_up</th>\n",
              "      <th>MA12_ISM</th>\n",
              "      <th>MA12_WTI</th>\n",
              "      <th>inverse_ba</th>\n",
              "      <th>MA12_inverse_ba</th>\n",
              "    </tr>\n",
              "    <tr>\n",
              "      <th>date</th>\n",
              "      <th></th>\n",
              "      <th></th>\n",
              "      <th></th>\n",
              "      <th></th>\n",
              "      <th></th>\n",
              "      <th></th>\n",
              "      <th></th>\n",
              "      <th></th>\n",
              "      <th></th>\n",
              "      <th></th>\n",
              "      <th></th>\n",
              "      <th></th>\n",
              "      <th></th>\n",
              "      <th></th>\n",
              "      <th></th>\n",
              "      <th></th>\n",
              "      <th></th>\n",
              "      <th></th>\n",
              "      <th></th>\n",
              "      <th></th>\n",
              "      <th></th>\n",
              "      <th></th>\n",
              "      <th></th>\n",
              "      <th></th>\n",
              "      <th></th>\n",
              "      <th></th>\n",
              "      <th></th>\n",
              "      <th></th>\n",
              "      <th></th>\n",
              "      <th></th>\n",
              "      <th></th>\n",
              "      <th></th>\n",
              "      <th></th>\n",
              "      <th></th>\n",
              "      <th></th>\n",
              "      <th></th>\n",
              "      <th></th>\n",
              "    </tr>\n",
              "  </thead>\n",
              "  <tbody>\n",
              "    <tr>\n",
              "      <th>1994-05-01</th>\n",
              "      <td>58.2</td>\n",
              "      <td>130.67</td>\n",
              "      <td>7.17</td>\n",
              "      <td>16.585366</td>\n",
              "      <td>1.01</td>\n",
              "      <td>4.823728</td>\n",
              "      <td>11.192487</td>\n",
              "      <td>92.52</td>\n",
              "      <td>-2.147012</td>\n",
              "      <td>67.0655</td>\n",
              "      <td>17.88</td>\n",
              "      <td>20.97429</td>\n",
              "      <td>-10.33099</td>\n",
              "      <td>0.63381</td>\n",
              "      <td>1.04</td>\n",
              "      <td>19.18182</td>\n",
              "      <td>386.85</td>\n",
              "      <td>1.402359</td>\n",
              "      <td>1.37795</td>\n",
              "      <td>0.002688</td>\n",
              "      <td>5.53</td>\n",
              "      <td>69.954792</td>\n",
              "      <td>4.01</td>\n",
              "      <td>0.058166</td>\n",
              "      <td>0.007959</td>\n",
              "      <td>-0.541126</td>\n",
              "      <td>0.068039</td>\n",
              "      <td>0.997602</td>\n",
              "      <td>0.065925</td>\n",
              "      <td>-0.590234</td>\n",
              "      <td>Decelerate</td>\n",
              "      <td>+</td>\n",
              "      <td>-</td>\n",
              "      <td>48.458333</td>\n",
              "      <td>18.501667</td>\n",
              "      <td>-0.63381</td>\n",
              "      <td>-0.615206</td>\n",
              "    </tr>\n",
              "  </tbody>\n",
              "</table>\n",
              "</div>"
            ],
            "text/plain": [
              "            ism_pmi     CRB  10yr_rate  ...   MA12_WTI  inverse_ba  MA12_inverse_ba\n",
              "date                                    ...                                        \n",
              "1994-05-01     58.2  130.67       7.17  ...  18.501667    -0.63381        -0.615206\n",
              "\n",
              "[1 rows x 37 columns]"
            ]
          },
          "metadata": {
            "tags": []
          },
          "execution_count": 90
        }
      ]
    },
    {
      "cell_type": "code",
      "metadata": {
        "id": "XkMu4gRp2ydv",
        "colab_type": "code",
        "colab": {}
      },
      "source": [
        "# Cleaning column names for feature importance readability \n",
        "df.columns = ['ISM_PMI', 'Commodity_Index', '10yr_Rate','10yr_ROC', '10yr_yoy_Per_Chg', \n",
        "              'Swiss_10yr', 'Swiss_10yr_ROC', 'Dollar_Index', 'Dollar_ROC',\n",
        "              'Indust_Prod_Manufacturing', 'WTI', 'WTI_ROC', 'WTI_yoy_Chg', \n",
        "              'Aaa/Baa_Yield_Spread', 'Copper', 'Copper_yoy_Chg', 'Gold', \n",
        "              'Gold_ROC', 'Gold_yoy_Chg', 'Copper/Gold', 'Silver', \n",
        "              'Gold/Silver', 'Fed_Funds_Rate', 'Copper/WTI', 'Copper/CRB', \n",
        "              'Copper/$_Quarter_Corr', 'Copper/Gold_Quarter_Corr', \n",
        "              'Copper/CRB_Quarter_Corr', '$/Gold_Quarter_Corr', \n",
        "              '$/CRB_Quarter_Corr', 'CPI_Direction', 'WTI_ROC_+', 'Gold_ROC_+',\n",
        "              'MA_12_ISM', 'MA_12_WTI', 'Aaa/Baa_Spread_Inv', 'MA_12_Aaa/Baa_Spread_Inv']"
      ],
      "execution_count": 91,
      "outputs": []
    },
    {
      "cell_type": "code",
      "metadata": {
        "id": "FC1nhjajakbA",
        "colab_type": "code",
        "colab": {}
      },
      "source": [
        "# target is the `CPI overall`\n",
        "# categorical\n",
        "target = 'CPI_Direction'\n",
        "\n",
        "y = df[target]\n",
        "X = df.drop(target , axis=1)"
      ],
      "execution_count": 92,
      "outputs": []
    },
    {
      "cell_type": "code",
      "metadata": {
        "id": "M6tnYD9xU40G",
        "colab_type": "code",
        "colab": {}
      },
      "source": [
        "cutoff1 = '2017-07-01'\n",
        "mask1 = (df.index <= cutoff1)\n",
        "train = df[mask1]\n",
        "val = df[~mask1]"
      ],
      "execution_count": 93,
      "outputs": []
    },
    {
      "cell_type": "code",
      "metadata": {
        "id": "tDZIQlgBtLU9",
        "colab_type": "code",
        "colab": {}
      },
      "source": [
        "y_train = train[target]\n",
        "X_train = train.drop([target], axis=1)\n",
        "\n",
        "y_val = val[target]\n",
        "X_val = val.drop(target, axis=1)"
      ],
      "execution_count": 94,
      "outputs": []
    },
    {
      "cell_type": "code",
      "metadata": {
        "id": "AIDRE5ySBUoD",
        "colab_type": "code",
        "colab": {
          "base_uri": "https://localhost:8080/",
          "height": 36
        },
        "outputId": "6c6e0d1f-6d08-4358-80fb-8149fccb941d"
      },
      "source": [
        "val.shape"
      ],
      "execution_count": 95,
      "outputs": [
        {
          "output_type": "execute_result",
          "data": {
            "text/plain": [
              "(37, 37)"
            ]
          },
          "metadata": {
            "tags": []
          },
          "execution_count": 95
        }
      ]
    },
    {
      "cell_type": "code",
      "metadata": {
        "id": "BhPh0yCkBXeb",
        "colab_type": "code",
        "colab": {
          "base_uri": "https://localhost:8080/",
          "height": 36
        },
        "outputId": "4ed4a25d-4322-476c-d586-810f8f99b5fc"
      },
      "source": [
        "df.shape"
      ],
      "execution_count": 96,
      "outputs": [
        {
          "output_type": "execute_result",
          "data": {
            "text/plain": [
              "(316, 37)"
            ]
          },
          "metadata": {
            "tags": []
          },
          "execution_count": 96
        }
      ]
    },
    {
      "cell_type": "code",
      "metadata": {
        "id": "SMvnvTWmXD9r",
        "colab_type": "code",
        "colab": {
          "base_uri": "https://localhost:8080/",
          "height": 73
        },
        "outputId": "a6172fc3-b023-463f-d009-fe31627e5fcb"
      },
      "source": [
        "y_val.value_counts()"
      ],
      "execution_count": 135,
      "outputs": [
        {
          "output_type": "execute_result",
          "data": {
            "text/plain": [
              "Accelerate    20\n",
              "Decelerate    17\n",
              "Name: CPI_Direction, dtype: int64"
            ]
          },
          "metadata": {
            "tags": []
          },
          "execution_count": 135
        }
      ]
    },
    {
      "cell_type": "code",
      "metadata": {
        "id": "zOpkuYqhU7f8",
        "colab_type": "code",
        "colab": {}
      },
      "source": [
        "assert df.shape[0] == train.shape[0] + val.shape[0]"
      ],
      "execution_count": 97,
      "outputs": []
    },
    {
      "cell_type": "code",
      "metadata": {
        "id": "NSfSzZN-VB8J",
        "colab_type": "code",
        "colab": {
          "base_uri": "https://localhost:8080/",
          "height": 36
        },
        "outputId": "0f6e63ab-fa21-40fc-c9e6-59eb3148913d"
      },
      "source": [
        "# Baseline --> Classification\n",
        "from sklearn.metrics import mean_absolute_error\n",
        "print('Baseline Accuracy:', y_train.value_counts(normalize=True).max())"
      ],
      "execution_count": 98,
      "outputs": [
        {
          "output_type": "stream",
          "text": [
            "Baseline Accuracy: 0.5197132616487455\n"
          ],
          "name": "stdout"
        }
      ]
    },
    {
      "cell_type": "code",
      "metadata": {
        "id": "9vEVLlRvVGIx",
        "colab_type": "code",
        "colab": {}
      },
      "source": [
        "# Model 1: Logistic Regression\n",
        "\n",
        "model = make_pipeline(\n",
        "    OrdinalEncoder(),   \n",
        "    SimpleImputer(),\n",
        "    StandardScaler(),\n",
        "    LogisticRegression()    \n",
        ")\n",
        "\n",
        "model.fit(X_train, y_train);"
      ],
      "execution_count": 99,
      "outputs": []
    },
    {
      "cell_type": "code",
      "metadata": {
        "id": "h6UzkYjwVHSr",
        "colab_type": "code",
        "colab": {
          "base_uri": "https://localhost:8080/",
          "height": 54
        },
        "outputId": "aacb73fb-e0dc-4587-d61e-5470df7a438a"
      },
      "source": [
        "print('Training Accuracy LOGR:', model.score(X_train, y_train))\n",
        "print('Validtaion Accuracy LOGR:', model.score(X_val, y_val))\n",
        "# print('Training MAE:', mean_absolute_error(y_train, model.predict(X_train)))\n",
        "# print('Validation MAE:', mean_absolute_error(y_val, model.predict(X_val)))"
      ],
      "execution_count": 100,
      "outputs": [
        {
          "output_type": "stream",
          "text": [
            "Training Accuracy LOGR: 0.6989247311827957\n",
            "Validtaion Accuracy LOGR: 0.5945945945945946\n"
          ],
          "name": "stdout"
        }
      ]
    },
    {
      "cell_type": "code",
      "metadata": {
        "id": "TWbb7zt4-WgK",
        "colab_type": "code",
        "colab": {
          "base_uri": "https://localhost:8080/",
          "height": 129
        },
        "outputId": "9a2b90f5-f480-4f1a-8622-5b1cd9a11aa1"
      },
      "source": [
        "import numpy as np\n",
        "coefficients = np.round(model.named_steps['logisticregression'].coef_, 3)\n",
        "list(zip(X_train.columns, coefficients))"
      ],
      "execution_count": 101,
      "outputs": [
        {
          "output_type": "execute_result",
          "data": {
            "text/plain": [
              "[('ISM_PMI',\n",
              "  array([ 0.53 , -0.074,  0.761, -0.417, -0.864,  0.671,  0.067,  0.237,\n",
              "          0.106,  0.242,  0.63 , -0.098, -0.736,  0.256, -0.32 ,  0.52 ,\n",
              "          1.094, -0.153, -0.495,  0.219, -0.295,  0.426,  0.381, -0.342,\n",
              "          0.305,  0.106,  0.062,  0.037, -0.065,  0.129, -0.018, -0.08 ,\n",
              "          0.044,  0.166, -0.256,  0.074]))]"
            ]
          },
          "metadata": {
            "tags": []
          },
          "execution_count": 101
        }
      ]
    },
    {
      "cell_type": "code",
      "metadata": {
        "id": "Nw6V1U98VKYQ",
        "colab_type": "code",
        "colab": {}
      },
      "source": [
        "# Model 2: Random Forest Classifier\n",
        "model_f = make_pipeline(\n",
        "    OrdinalEncoder(),\n",
        "    SimpleImputer(strategy='mean'),\n",
        "    StandardScaler(),\n",
        "    RandomForestClassifier(n_jobs=-1, n_estimators=20, random_state=42)\n",
        ")\n",
        "\n",
        "model_f.fit(X_train, y_train);"
      ],
      "execution_count": 102,
      "outputs": []
    },
    {
      "cell_type": "code",
      "metadata": {
        "id": "wyVeFpuCX_Nm",
        "colab_type": "code",
        "colab": {
          "base_uri": "https://localhost:8080/",
          "height": 54
        },
        "outputId": "db5b311c-a80b-4a2a-f4ee-ab9188f8b94b"
      },
      "source": [
        "print('Train Accuracy (RF):', model_f.score(X_train, y_train))\n",
        "print('Validation Accuracy (RF):', model_f.score(X_val, y_val))"
      ],
      "execution_count": 103,
      "outputs": [
        {
          "output_type": "stream",
          "text": [
            "Train Accuracy (RF): 0.992831541218638\n",
            "Validation Accuracy (RF): 0.7027027027027027\n"
          ],
          "name": "stdout"
        }
      ]
    },
    {
      "cell_type": "code",
      "metadata": {
        "id": "WTYGx5KQYvo_",
        "colab_type": "code",
        "colab": {}
      },
      "source": [
        "from sklearn.ensemble import GradientBoostingClassifier, GradientBoostingRegressor\n",
        "from xgboost import XGBClassifier, XGBRegressor"
      ],
      "execution_count": 104,
      "outputs": []
    },
    {
      "cell_type": "code",
      "metadata": {
        "id": "Z7mSrRu9ghjZ",
        "colab_type": "code",
        "colab": {}
      },
      "source": [
        "# Model 3: Gradient Boosting Classifier\n",
        "\n",
        "model_grad = make_pipeline(\n",
        "    OrdinalEncoder(),\n",
        "    SimpleImputer(),\n",
        "    GradientBoostingClassifier(n_estimators=32)\n",
        ")\n",
        "model_grad.fit(X_train,y_train);"
      ],
      "execution_count": 105,
      "outputs": []
    },
    {
      "cell_type": "code",
      "metadata": {
        "id": "9eqX9fXZ_YzU",
        "colab_type": "code",
        "colab": {
          "base_uri": "https://localhost:8080/",
          "height": 54
        },
        "outputId": "b84cf2f4-f3db-461b-eb7c-1e38e06b7f18"
      },
      "source": [
        "\n",
        "print('Train Accuracy:', model_grad.score(X_train, y_train))\n",
        "print('Validation Accuracy:', model_grad.score(X_val, y_val))"
      ],
      "execution_count": 106,
      "outputs": [
        {
          "output_type": "stream",
          "text": [
            "Train Accuracy: 0.9354838709677419\n",
            "Validation Accuracy: 0.7297297297297297\n"
          ],
          "name": "stdout"
        }
      ]
    },
    {
      "cell_type": "markdown",
      "metadata": {
        "id": "cZn46Em4OKCh",
        "colab_type": "text"
      },
      "source": [
        "Confusion Matrix"
      ]
    },
    {
      "cell_type": "code",
      "metadata": {
        "id": "j9Ub7YgJzJ9d",
        "colab_type": "code",
        "colab": {
          "base_uri": "https://localhost:8080/",
          "height": 302
        },
        "outputId": "b7de8881-0407-49f8-efe6-d33b97971cbb"
      },
      "source": [
        "from sklearn.metrics import plot_confusion_matrix, classification_report\n",
        "\n",
        "plot_confusion_matrix(model_grad,\n",
        "                      X_val, \n",
        "                      y_val,\n",
        "                      display_labels=['Accelerate', 'Decelerate'],\n",
        "                      values_format='.0f')"
      ],
      "execution_count": 107,
      "outputs": [
        {
          "output_type": "execute_result",
          "data": {
            "text/plain": [
              "<sklearn.metrics._plot.confusion_matrix.ConfusionMatrixDisplay at 0x7f85c5a24320>"
            ]
          },
          "metadata": {
            "tags": []
          },
          "execution_count": 107
        },
        {
          "output_type": "display_data",
          "data": {
            "image/png": "[encoded data removed]",
            "text/plain": [
              "<Figure size 432x288 with 2 Axes>"
            ]
          },
          "metadata": {
            "tags": [],
            "needs_background": "light"
          }
        }
      ]
    },
    {
      "cell_type": "code",
      "metadata": {
        "id": "krZXf24duTWl",
        "colab_type": "code",
        "colab": {}
      },
      "source": [
        "# True Neg = 14\n",
        "# True Pos = 13\n",
        "# False Pos = 7\n",
        "# False Neg= 3"
      ],
      "execution_count": 108,
      "outputs": []
    },
    {
      "cell_type": "code",
      "metadata": {
        "id": "A-fp2P8yc4_P",
        "colab_type": "code",
        "colab": {
          "base_uri": "https://localhost:8080/",
          "height": 185
        },
        "outputId": "9e029fe2-60a9-4686-8cc1-93098c89fb51"
      },
      "source": [
        "print(classification_report(y_val,model_grad.predict(X_val), target_names=['Accelerate','Decelerate']))"
      ],
      "execution_count": 109,
      "outputs": [
        {
          "output_type": "stream",
          "text": [
            "              precision    recall  f1-score   support\n",
            "\n",
            "  Accelerate       0.81      0.65      0.72        20\n",
            "  Decelerate       0.67      0.82      0.74        17\n",
            "\n",
            "    accuracy                           0.73        37\n",
            "   macro avg       0.74      0.74      0.73        37\n",
            "weighted avg       0.75      0.73      0.73        37\n",
            "\n"
          ],
          "name": "stdout"
        }
      ]
    },
    {
      "cell_type": "code",
      "metadata": {
        "id": "Zr_xgDA5o18V",
        "colab_type": "code",
        "colab": {
          "base_uri": "https://localhost:8080/",
          "height": 265
        },
        "outputId": "c1629af8-0ebe-434d-fec0-4046ac91d3ea"
      },
      "source": [
        "feature_imp = model_grad.named_steps['gradientboostingclassifier'] .feature_importances_\n",
        "features = X_train.columns\n",
        "\n",
        "pd.Series(feature_imp, features).sort_values(ascending=False).head(20).plot(kind='barh');"
      ],
      "execution_count": 110,
      "outputs": [
        {
          "output_type": "display_data",
          "data": {
            "image/png": "[encoded data removed]",
            "text/plain": [
              "<Figure size 432x288 with 1 Axes>"
            ]
          },
          "metadata": {
            "tags": [],
            "needs_background": "light"
          }
        }
      ]
    },
    {
      "cell_type": "code",
      "metadata": {
        "id": "3UD7L2IyTQ0_",
        "colab_type": "code",
        "colab": {
          "base_uri": "https://localhost:8080/",
          "height": 607
        },
        "outputId": "6324ffe8-814c-4bbd-ef02-12a2e96e4de4"
      },
      "source": [
        "gbc = model_grad.named_steps['gradientboostingclassifier']\n",
        "importances = pd.Series(gbc.feature_importances_, X_train.columns)\n",
        "\n",
        "n = 20\n",
        "plt.figure(figsize=(10,n/2))\n",
        "plt.title(f'Top {n} features')\n",
        "importances.sort_values()[-n:].plot.barh(color='#2D6F8E');"
      ],
      "execution_count": 140,
      "outputs": [
        {
          "output_type": "display_data",
          "data": {
            "image/png": "[encoded data removed]",
            "text/plain": [
              "<Figure size 720x720 with 1 Axes>"
            ]
          },
          "metadata": {
            "tags": [],
            "needs_background": "light"
          }
        }
      ]
    },
    {
      "cell_type": "markdown",
      "metadata": {
        "id": "7vcQD2imnkrm",
        "colab_type": "text"
      },
      "source": [
        "#PDP Plot"
      ]
    },
    {
      "cell_type": "code",
      "metadata": {
        "id": "A14gz5_xS5kF",
        "colab_type": "code",
        "colab": {
          "base_uri": "https://localhost:8080/",
          "height": 581
        },
        "outputId": "e2a20849-0c65-4ec9-e26f-dfaaa5441c18"
      },
      "source": [
        "import matplotlib.pyplot as plt\n",
        "plt.rcParams['figure.dpi'] = 72\n",
        "from pdpbox.pdp import pdp_isolate, pdp_interact, pdp_plot, pdp_interact_plot\n",
        "\n",
        "features = ['WTI_ROC', '10yr_ROC']\n",
        "interaction = pdp_interact(\n",
        "    model=model_grad,\n",
        "    dataset=X_val,\n",
        "    model_features=X_val.columns,\n",
        "    features=features\n",
        ")\n",
        "\n",
        "pdp_interact_plot(interaction, plot_type='grid', feature_names=features);"
      ],
      "execution_count": 138,
      "outputs": [
        {
          "output_type": "display_data",
          "data": {
            "image/png": "[encoded data removed]",
            "text/plain": [
              "<Figure size 540x684 with 3 Axes>"
            ]
          },
          "metadata": {
            "tags": [],
            "needs_background": "light"
          }
        }
      ]
    },
    {
      "cell_type": "markdown",
      "metadata": {
        "id": "tvEp19HkXabO",
        "colab_type": "text"
      },
      "source": [
        "While the rate of change in the price of WTI is highly negative the 10 year rate of change seems to have a higher effect on inflation accerlating as the 10 year rate of change increases. Futhermore, if the 10 year RoC remains elevated and the WTI RoC increaeses to the 23.5 level there is a shift to WTI RoC having a greater effect on inflation. Diving deeper into these thresholds could be an area for deeper investigation."
      ]
    },
    {
      "cell_type": "code",
      "metadata": {
        "id": "_sC6m6jUWiG8",
        "colab_type": "code",
        "colab": {
          "base_uri": "https://localhost:8080/",
          "height": 579
        },
        "outputId": "0a90c590-1cd7-4979-d11b-323b16c2b3d1"
      },
      "source": [
        "hnnmmmmnplt.rcParams['figure.dpi'] = 72\n",
        "\n",
        "\n",
        "feature = '10yr_ROC'\n",
        "isolated = pdp_isolate(\n",
        "    model=model_grad,\n",
        "    dataset=X_val,\n",
        "    model_features=X_val.columns,\n",
        "    feature=feature\n",
        ")\n",
        "\n",
        "pdp_plot(isolated, feature_name=feature);"
      ],
      "execution_count": 130,
      "outputs": [
        {
          "output_type": "display_data",
          "data": {
            "image/png": "[encoded data removed]",
            "text/plain": [
              "<Figure size 1080x684 with 2 Axes>"
            ]
          },
          "metadata": {
            "tags": [],
            "needs_background": "light"
          }
        }
      ]
    },
    {
      "cell_type": "code",
      "metadata": {
        "id": "ATLQhvoLqpXJ",
        "colab_type": "code",
        "colab": {
          "base_uri": "https://localhost:8080/",
          "height": 581
        },
        "outputId": "ee04a3bc-747b-4bf7-a31b-8864c18cbf75"
      },
      "source": [
        "features = ['ISM_PMI', 'WTI_yoy_Chg']\n",
        "\n",
        "interaction = pdp_interact(\n",
        "    model=model_grad,\n",
        "    dataset=X_val,\n",
        "    model_features=X_train.columns,\n",
        "    features=features\n",
        ")\n",
        "\n",
        "pdp_interact_plot(interaction, plot_type='grid', feature_names=features);"
      ],
      "execution_count": 139,
      "outputs": [
        {
          "output_type": "display_data",
          "data": {
            "image/png": "[encoded data removed]",
            "text/plain": [
              "<Figure size 540x684 with 3 Axes>"
            ]
          },
          "metadata": {
            "tags": [],
            "needs_background": "light"
          }
        }
      ]
    },
    {
      "cell_type": "code",
      "metadata": {
        "id": "p1qc_29hb4Hm",
        "colab_type": "code",
        "colab": {}
      },
      "source": [
        "# Model 4: XGB Regressor\n",
        "\n",
        "model_xgb = make_pipeline(\n",
        "    OrdinalEncoder(),\n",
        "    SimpleImputer(),\n",
        "    # SelectKBest(k=20),\n",
        "    XGBClassifier(n_jobs=-1, n_estimators=23)\n",
        ")\n",
        "\n",
        "model_xgb.fit(X_train, y_train);"
      ],
      "execution_count": 114,
      "outputs": []
    },
    {
      "cell_type": "code",
      "metadata": {
        "id": "8MmACv1odEq1",
        "colab_type": "code",
        "colab": {
          "base_uri": "https://localhost:8080/",
          "height": 54
        },
        "outputId": "0173fa3c-a5a5-49ad-ed76-27bd1d6430b4"
      },
      "source": [
        "print('Train Accuracy:', model_xgb.score(X_train, y_train))\n",
        "print('Validation Accuracy:', model_xgb.score(X_val, y_val)) "
      ],
      "execution_count": 115,
      "outputs": [
        {
          "output_type": "stream",
          "text": [
            "Train Accuracy: 0.8960573476702509\n",
            "Validation Accuracy: 0.7027027027027027\n"
          ],
          "name": "stdout"
        }
      ]
    },
    {
      "cell_type": "markdown",
      "metadata": {
        "id": "QoenO1B0jzs-",
        "colab_type": "text"
      },
      "source": [
        "Confusion Matric XGB Regression"
      ]
    },
    {
      "cell_type": "code",
      "metadata": {
        "id": "xen6kKqjjuPy",
        "colab_type": "code",
        "colab": {
          "base_uri": "https://localhost:8080/",
          "height": 298
        },
        "outputId": "8efc9fe3-c27e-4901-ee8b-b90a157f553c"
      },
      "source": [
        "from sklearn.metrics import plot_confusion_matrix, classification_report\n",
        "\n",
        "plot_confusion_matrix(model_xgb,\n",
        "                      X_val, \n",
        "                      y_val,\n",
        "                      display_labels=['Accelerate', 'Decelerate'],\n",
        "                      values_format='.0f')"
      ],
      "execution_count": 116,
      "outputs": [
        {
          "output_type": "execute_result",
          "data": {
            "text/plain": [
              "<sklearn.metrics._plot.confusion_matrix.ConfusionMatrixDisplay at 0x7f85c58c6b70>"
            ]
          },
          "metadata": {
            "tags": []
          },
          "execution_count": 116
        },
        {
          "output_type": "display_data",
          "data": {
            "image/png": "[encoded data removed]",
            "text/plain": [
              "<Figure size 432x288 with 2 Axes>"
            ]
          },
          "metadata": {
            "tags": [],
            "needs_background": "light"
          }
        }
      ]
    },
    {
      "cell_type": "code",
      "metadata": {
        "id": "U4-qozAdj3Kt",
        "colab_type": "code",
        "colab": {
          "base_uri": "https://localhost:8080/",
          "height": 185
        },
        "outputId": "c667e6cb-27b0-468d-d8ba-6bb9f9260188"
      },
      "source": [
        "print(classification_report(y_val,model_xgb.predict(X_val), target_names=['Accelerate','Decelerate']))"
      ],
      "execution_count": 117,
      "outputs": [
        {
          "output_type": "stream",
          "text": [
            "              precision    recall  f1-score   support\n",
            "\n",
            "  Accelerate       0.85      0.55      0.67        20\n",
            "  Decelerate       0.62      0.88      0.73        17\n",
            "\n",
            "    accuracy                           0.70        37\n",
            "   macro avg       0.74      0.72      0.70        37\n",
            "weighted avg       0.74      0.70      0.70        37\n",
            "\n"
          ],
          "name": "stdout"
        }
      ]
    },
    {
      "cell_type": "markdown",
      "metadata": {
        "id": "kv3huN0dCRbW",
        "colab_type": "text"
      },
      "source": [
        "Feature Importances"
      ]
    },
    {
      "cell_type": "code",
      "metadata": {
        "id": "yCNACq_aQaF6",
        "colab_type": "code",
        "colab": {
          "base_uri": "https://localhost:8080/",
          "height": 265
        },
        "outputId": "43a60b2a-72a6-43d0-a657-f73cca31ef34"
      },
      "source": [
        "feature_imp = model_xgb.named_steps['xgbclassifier'] .feature_importances_\n",
        "features = X_train.columns\n",
        "\n",
        "pd.Series(feature_imp, features).sort_values(ascending=False).head(20).plot(kind='barh');"
      ],
      "execution_count": 118,
      "outputs": [
        {
          "output_type": "display_data",
          "data": {
            "image/png": "[encoded data removed]",
            "text/plain": [
              "<Figure size 432x288 with 1 Axes>"
            ]
          },
          "metadata": {
            "tags": [],
            "needs_background": "light"
          }
        }
      ]
    },
    {
      "cell_type": "code",
      "metadata": {
        "id": "YkkTkcTnD_Fr",
        "colab_type": "code",
        "colab": {
          "base_uri": "https://localhost:8080/",
          "height": 166
        },
        "outputId": "a978e6b2-c90b-4e90-b1f9-f808e79c44e9"
      },
      "source": [
        "model_xgb.named_steps['xgbclassifier'].feature_importances_"
      ],
      "execution_count": 119,
      "outputs": [
        {
          "output_type": "execute_result",
          "data": {
            "text/plain": [
              "array([0.03007188, 0.        , 0.02854055, 0.05018336, 0.03204025,\n",
              "       0.04391352, 0.02373272, 0.03820144, 0.03898609, 0.05148051,\n",
              "       0.03861998, 0.02780869, 0.05203033, 0.03324469, 0.        ,\n",
              "       0.        , 0.01308928, 0.02078361, 0.04071309, 0.0307615 ,\n",
              "       0.01570503, 0.02374724, 0.04200861, 0.03421365, 0.01713571,\n",
              "       0.02729149, 0.03264147, 0.02435207, 0.04557562, 0.03303611,\n",
              "       0.        , 0.        , 0.03626066, 0.03509579, 0.        ,\n",
              "       0.03873508], dtype=float32)"
            ]
          },
          "metadata": {
            "tags": []
          },
          "execution_count": 119
        }
      ]
    },
    {
      "cell_type": "code",
      "metadata": {
        "id": "zJ_1xi7uDFeb",
        "colab_type": "code",
        "colab": {
          "base_uri": "https://localhost:8080/",
          "height": 249
        },
        "outputId": "b4990d17-7ccf-49cd-bca0-c67f9d87a0fb"
      },
      "source": [
        "from pdpbox.pdp import pdp_isolate, pdp_interact, pdp_plot, pdp_interact_plot\n",
        "\n",
        "feature = ['Copper/Gold', 'WTI']\n",
        "\n",
        "isolated = pdp_isolate(\n",
        "    model=model_xgb,\n",
        "    dataset=X_val,\n",
        "    model_features=X_val.columns,\n",
        "    features=feature\n",
        ")\n",
        "\n",
        "pdp_plot(isolated, feature_name=feature);"
      ],
      "execution_count": 120,
      "outputs": [
        {
          "output_type": "error",
          "ename": "TypeError",
          "evalue": "ignored",
          "traceback": [
            "\u001b[0;31m---------------------------------------------------------------------------\u001b[0m",
            "\u001b[0;31mTypeError\u001b[0m                                 Traceback (most recent call last)",
            "\u001b[0;32m<ipython-input-120-0a7fdef95e0f>\u001b[0m in \u001b[0;36m<module>\u001b[0;34m()\u001b[0m\n\u001b[1;32m      7\u001b[0m     \u001b[0mdataset\u001b[0m\u001b[0;34m=\u001b[0m\u001b[0mX_val\u001b[0m\u001b[0;34m,\u001b[0m\u001b[0;34m\u001b[0m\u001b[0;34m\u001b[0m\u001b[0m\n\u001b[1;32m      8\u001b[0m     \u001b[0mmodel_features\u001b[0m\u001b[0;34m=\u001b[0m\u001b[0mX_val\u001b[0m\u001b[0;34m.\u001b[0m\u001b[0mcolumns\u001b[0m\u001b[0;34m,\u001b[0m\u001b[0;34m\u001b[0m\u001b[0;34m\u001b[0m\u001b[0m\n\u001b[0;32m----> 9\u001b[0;31m     \u001b[0mfeatures\u001b[0m\u001b[0;34m=\u001b[0m\u001b[0mfeature\u001b[0m\u001b[0;34m\u001b[0m\u001b[0;34m\u001b[0m\u001b[0m\n\u001b[0m\u001b[1;32m     10\u001b[0m )\n\u001b[1;32m     11\u001b[0m \u001b[0;34m\u001b[0m\u001b[0m\n",
            "\u001b[0;31mTypeError\u001b[0m: pdp_isolate() got an unexpected keyword argument 'features'"
          ]
        }
      ]
    },
    {
      "cell_type": "code",
      "metadata": {
        "id": "pTTFo9e7pxDF",
        "colab_type": "code",
        "colab": {}
      },
      "source": [
        "features = ['Copper/Gold Ratio', '10yr Rate']\n",
        "\n",
        "interaction = pdp_interact(\n",
        "    model=model_xgb,\n",
        "    dataset=X_val,\n",
        "    model_features=X_val.columns,\n",
        "    features=features\n",
        ")\n",
        "\n",
        "pdp_interact_plot(interaction, plot_type='grid', feature_names=features);"
      ],
      "execution_count": null,
      "outputs": []
    },
    {
      "cell_type": "code",
      "metadata": {
        "id": "-hxtDLXtCWHq",
        "colab_type": "code",
        "colab": {}
      },
      "source": [
        ""
      ],
      "execution_count": null,
      "outputs": []
    },
    {
      "cell_type": "markdown",
      "metadata": {
        "id": "1TOvw-c8BX_s",
        "colab_type": "text"
      },
      "source": [
        "#PDP Plots"
      ]
    },
    {
      "cell_type": "code",
      "metadata": {
        "id": "uMC4yYSbBcCy",
        "colab_type": "code",
        "colab": {}
      },
      "source": [
        "# View Feature\n",
        "import matplotlib.pyplot as plt\n",
        "plt.rcParams['figure.dpi'] = 72"
      ],
      "execution_count": null,
      "outputs": []
    },
    {
      "cell_type": "code",
      "metadata": {
        "id": "r7YYH6NbD5ep",
        "colab_type": "code",
        "colab": {}
      },
      "source": [
        "from pdpbox.pdp import pdp_isolate, pdp_interact"
      ],
      "execution_count": null,
      "outputs": []
    },
    {
      "cell_type": "code",
      "metadata": {
        "id": "hK5tHc15dFS2",
        "colab_type": "code",
        "colab": {}
      },
      "source": [
        "feature_imp = model.named_steps['xgbregressor'].feature_importances_\n",
        "features = X_train.columns\n",
        "\n",
        "pd.Series(feature_imp, features).sort_values(ascending=False).head(5).plot(kind='barh');"
      ],
      "execution_count": null,
      "outputs": []
    },
    {
      "cell_type": "code",
      "metadata": {
        "id": "T3lxnB6IA3yi",
        "colab_type": "code",
        "colab": {}
      },
      "source": [
        "features = ['Copper', 'DXY']\n",
        "\n",
        "interaction = pdp_interact(\n",
        "    model=model_xgb,\n",
        "    dataset=X_val,\n",
        "    model_features=X_val.columns,\n",
        "    features=features\n",
        ")"
      ],
      "execution_count": null,
      "outputs": []
    },
    {
      "cell_type": "code",
      "metadata": {
        "id": "sEPjWSOmQnGW",
        "colab_type": "code",
        "colab": {}
      },
      "source": [
        "plt.plot(df.index, df['Copper/Gold Ratio'])\n",
        "plt.title('Copper/Gold Ratio')\n",
        "plt.show()\n",
        "\n",
        "plt.plot(df.index, df['10yr Rate'])\n",
        "plt.title('10 year Rate')\n",
        "plt.show()\n",
        "\n",
        "plt.plot(df.index, df['Copper/WTI Ratio'])\n",
        "plt.show()"
      ],
      "execution_count": null,
      "outputs": []
    },
    {
      "cell_type": "code",
      "metadata": {
        "id": "6ZxpX2-xSEG_",
        "colab_type": "code",
        "colab": {}
      },
      "source": [
        ""
      ],
      "execution_count": null,
      "outputs": []
    }
  ]
}